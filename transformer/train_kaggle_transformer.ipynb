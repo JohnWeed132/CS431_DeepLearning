{
 "cells": [
  {
   "cell_type": "code",
   "execution_count": 1,
   "id": "d142c214",
   "metadata": {
    "execution": {
     "iopub.execute_input": "2024-12-01T05:25:18.422397Z",
     "iopub.status.busy": "2024-12-01T05:25:18.422099Z",
     "iopub.status.idle": "2024-12-01T05:25:43.928097Z",
     "shell.execute_reply": "2024-12-01T05:25:43.926879Z"
    },
    "papermill": {
     "duration": 25.511561,
     "end_time": "2024-12-01T05:25:43.930375",
     "exception": false,
     "start_time": "2024-12-01T05:25:18.418814",
     "status": "completed"
    },
    "tags": []
   },
   "outputs": [],
   "source": [
    "%%capture\n",
    "!pip install transformers\n",
    "!pip install datasets\n",
    "!pip install gdown"
   ]
  },
  {
   "cell_type": "code",
   "execution_count": 2,
   "id": "f07fa5d6",
   "metadata": {
    "execution": {
     "iopub.execute_input": "2024-12-01T05:25:43.936005Z",
     "iopub.status.busy": "2024-12-01T05:25:43.935273Z",
     "iopub.status.idle": "2024-12-01T05:25:44.165877Z",
     "shell.execute_reply": "2024-12-01T05:25:44.164982Z"
    },
    "papermill": {
     "duration": 0.235348,
     "end_time": "2024-12-01T05:25:44.167957",
     "exception": false,
     "start_time": "2024-12-01T05:25:43.932609",
     "status": "completed"
    },
    "tags": []
   },
   "outputs": [],
   "source": [
    "import gdown"
   ]
  },
  {
   "cell_type": "code",
   "execution_count": 3,
   "id": "d205882e",
   "metadata": {
    "execution": {
     "iopub.execute_input": "2024-12-01T05:25:44.172924Z",
     "iopub.status.busy": "2024-12-01T05:25:44.172227Z",
     "iopub.status.idle": "2024-12-01T05:26:04.617127Z",
     "shell.execute_reply": "2024-12-01T05:26:04.616197Z"
    },
    "papermill": {
     "duration": 20.449072,
     "end_time": "2024-12-01T05:26:04.618867",
     "exception": false,
     "start_time": "2024-12-01T05:25:44.169795",
     "status": "completed"
    },
    "tags": []
   },
   "outputs": [
    {
     "name": "stderr",
     "output_type": "stream",
     "text": [
      "Downloading...\n",
      "From (original): https://drive.google.com/uc?id=1gUwvOAue0HllkmLqyfFgFzLzMxSH786J\n",
      "From (redirected): https://drive.google.com/uc?id=1gUwvOAue0HllkmLqyfFgFzLzMxSH786J&confirm=t&uuid=e71c636d-5fd8-49ee-a2cf-3225a073436e\n",
      "To: /kaggle/working/results.zip\n",
      "100%|██████████| 1.28G/1.28G [00:16<00:00, 77.5MB/s]\n"
     ]
    },
    {
     "data": {
      "text/plain": [
       "'/kaggle/working/results.zip'"
      ]
     },
     "execution_count": 3,
     "metadata": {},
     "output_type": "execute_result"
    }
   ],
   "source": [
    "gdown.download('https://drive.google.com/file/d/1gUwvOAue0HllkmLqyfFgFzLzMxSH786J/view?usp=sharing','/kaggle/working/results.zip',fuzzy=True)"
   ]
  },
  {
   "cell_type": "code",
   "execution_count": 4,
   "id": "ddb3672a",
   "metadata": {
    "execution": {
     "iopub.execute_input": "2024-12-01T05:26:04.633020Z",
     "iopub.status.busy": "2024-12-01T05:26:04.632731Z",
     "iopub.status.idle": "2024-12-01T05:26:12.925462Z",
     "shell.execute_reply": "2024-12-01T05:26:12.924527Z"
    },
    "papermill": {
     "duration": 8.302123,
     "end_time": "2024-12-01T05:26:12.927534",
     "exception": false,
     "start_time": "2024-12-01T05:26:04.625411",
     "status": "completed"
    },
    "tags": []
   },
   "outputs": [],
   "source": [
    "import zipfile\n",
    "import os\n",
    "extract_to = \"/kaggle/working/\"\n",
    "# Giải nén\n",
    "with zipfile.ZipFile('/kaggle/working/results.zip', 'r') as zip_ref:\n",
    "    zip_ref.extractall(extract_to)"
   ]
  },
  {
   "cell_type": "code",
   "execution_count": 5,
   "id": "d3a1ba0d",
   "metadata": {
    "execution": {
     "iopub.execute_input": "2024-12-01T05:26:12.942271Z",
     "iopub.status.busy": "2024-12-01T05:26:12.942017Z",
     "iopub.status.idle": "2024-12-01T05:26:13.227300Z",
     "shell.execute_reply": "2024-12-01T05:26:13.226338Z"
    },
    "papermill": {
     "duration": 0.294409,
     "end_time": "2024-12-01T05:26:13.229418",
     "exception": false,
     "start_time": "2024-12-01T05:26:12.935009",
     "status": "completed"
    },
    "tags": []
   },
   "outputs": [],
   "source": [
    "os.remove('/kaggle/working/results.zip')"
   ]
  },
  {
   "cell_type": "code",
   "execution_count": 6,
   "id": "0ad4b6e8",
   "metadata": {
    "execution": {
     "iopub.execute_input": "2024-12-01T05:26:13.243872Z",
     "iopub.status.busy": "2024-12-01T05:26:13.243030Z",
     "iopub.status.idle": "2024-12-01T08:17:11.296310Z",
     "shell.execute_reply": "2024-12-01T08:17:11.295438Z"
    },
    "papermill": {
     "duration": 10258.06242,
     "end_time": "2024-12-01T08:17:11.298551",
     "exception": false,
     "start_time": "2024-12-01T05:26:13.236131",
     "status": "completed"
    },
    "tags": []
   },
   "outputs": [
    {
     "name": "stdout",
     "output_type": "stream",
     "text": [
      "Using device: cuda\n",
      "Device name: Tesla P100-PCIE-16GB\n",
      "Device memory: 15.887939453125 GB\n",
      "Success load tokenizer\n",
      "Max length of source sentence: 943 at index 90226\n",
      "Max length of target sentence: 118 at index 53000\n",
      "Number of parameters in the transformer: 90213680\n",
      "encoder.layers.0.self_attention_block.w_q.weight: torch.Size([512, 512]), 262144 parameters\n",
      "encoder.layers.0.self_attention_block.w_k.weight: torch.Size([512, 512]), 262144 parameters\n",
      "encoder.layers.0.self_attention_block.w_v.weight: torch.Size([512, 512]), 262144 parameters\n",
      "encoder.layers.0.self_attention_block.w_o.weight: torch.Size([512, 512]), 262144 parameters\n",
      "encoder.layers.0.feed_forward_block.linear_1.weight: torch.Size([2048, 512]), 1048576 parameters\n",
      "encoder.layers.0.feed_forward_block.linear_1.bias: torch.Size([2048]), 2048 parameters\n",
      "encoder.layers.0.feed_forward_block.linear_2.weight: torch.Size([512, 2048]), 1048576 parameters\n",
      "encoder.layers.0.feed_forward_block.linear_2.bias: torch.Size([512]), 512 parameters\n",
      "encoder.layers.0.residual_connections.0.norm.alpha: torch.Size([512]), 512 parameters\n",
      "encoder.layers.0.residual_connections.0.norm.bias: torch.Size([512]), 512 parameters\n",
      "encoder.layers.0.residual_connections.1.norm.alpha: torch.Size([512]), 512 parameters\n",
      "encoder.layers.0.residual_connections.1.norm.bias: torch.Size([512]), 512 parameters\n",
      "encoder.layers.1.self_attention_block.w_q.weight: torch.Size([512, 512]), 262144 parameters\n",
      "encoder.layers.1.self_attention_block.w_k.weight: torch.Size([512, 512]), 262144 parameters\n",
      "encoder.layers.1.self_attention_block.w_v.weight: torch.Size([512, 512]), 262144 parameters\n",
      "encoder.layers.1.self_attention_block.w_o.weight: torch.Size([512, 512]), 262144 parameters\n",
      "encoder.layers.1.feed_forward_block.linear_1.weight: torch.Size([2048, 512]), 1048576 parameters\n",
      "encoder.layers.1.feed_forward_block.linear_1.bias: torch.Size([2048]), 2048 parameters\n",
      "encoder.layers.1.feed_forward_block.linear_2.weight: torch.Size([512, 2048]), 1048576 parameters\n",
      "encoder.layers.1.feed_forward_block.linear_2.bias: torch.Size([512]), 512 parameters\n",
      "encoder.layers.1.residual_connections.0.norm.alpha: torch.Size([512]), 512 parameters\n",
      "encoder.layers.1.residual_connections.0.norm.bias: torch.Size([512]), 512 parameters\n",
      "encoder.layers.1.residual_connections.1.norm.alpha: torch.Size([512]), 512 parameters\n",
      "encoder.layers.1.residual_connections.1.norm.bias: torch.Size([512]), 512 parameters\n",
      "encoder.layers.2.self_attention_block.w_q.weight: torch.Size([512, 512]), 262144 parameters\n",
      "encoder.layers.2.self_attention_block.w_k.weight: torch.Size([512, 512]), 262144 parameters\n",
      "encoder.layers.2.self_attention_block.w_v.weight: torch.Size([512, 512]), 262144 parameters\n",
      "encoder.layers.2.self_attention_block.w_o.weight: torch.Size([512, 512]), 262144 parameters\n",
      "encoder.layers.2.feed_forward_block.linear_1.weight: torch.Size([2048, 512]), 1048576 parameters\n",
      "encoder.layers.2.feed_forward_block.linear_1.bias: torch.Size([2048]), 2048 parameters\n",
      "encoder.layers.2.feed_forward_block.linear_2.weight: torch.Size([512, 2048]), 1048576 parameters\n",
      "encoder.layers.2.feed_forward_block.linear_2.bias: torch.Size([512]), 512 parameters\n",
      "encoder.layers.2.residual_connections.0.norm.alpha: torch.Size([512]), 512 parameters\n",
      "encoder.layers.2.residual_connections.0.norm.bias: torch.Size([512]), 512 parameters\n",
      "encoder.layers.2.residual_connections.1.norm.alpha: torch.Size([512]), 512 parameters\n",
      "encoder.layers.2.residual_connections.1.norm.bias: torch.Size([512]), 512 parameters\n",
      "encoder.layers.3.self_attention_block.w_q.weight: torch.Size([512, 512]), 262144 parameters\n",
      "encoder.layers.3.self_attention_block.w_k.weight: torch.Size([512, 512]), 262144 parameters\n",
      "encoder.layers.3.self_attention_block.w_v.weight: torch.Size([512, 512]), 262144 parameters\n",
      "encoder.layers.3.self_attention_block.w_o.weight: torch.Size([512, 512]), 262144 parameters\n",
      "encoder.layers.3.feed_forward_block.linear_1.weight: torch.Size([2048, 512]), 1048576 parameters\n",
      "encoder.layers.3.feed_forward_block.linear_1.bias: torch.Size([2048]), 2048 parameters\n",
      "encoder.layers.3.feed_forward_block.linear_2.weight: torch.Size([512, 2048]), 1048576 parameters\n",
      "encoder.layers.3.feed_forward_block.linear_2.bias: torch.Size([512]), 512 parameters\n",
      "encoder.layers.3.residual_connections.0.norm.alpha: torch.Size([512]), 512 parameters\n",
      "encoder.layers.3.residual_connections.0.norm.bias: torch.Size([512]), 512 parameters\n",
      "encoder.layers.3.residual_connections.1.norm.alpha: torch.Size([512]), 512 parameters\n",
      "encoder.layers.3.residual_connections.1.norm.bias: torch.Size([512]), 512 parameters\n",
      "encoder.layers.4.self_attention_block.w_q.weight: torch.Size([512, 512]), 262144 parameters\n",
      "encoder.layers.4.self_attention_block.w_k.weight: torch.Size([512, 512]), 262144 parameters\n",
      "encoder.layers.4.self_attention_block.w_v.weight: torch.Size([512, 512]), 262144 parameters\n",
      "encoder.layers.4.self_attention_block.w_o.weight: torch.Size([512, 512]), 262144 parameters\n",
      "encoder.layers.4.feed_forward_block.linear_1.weight: torch.Size([2048, 512]), 1048576 parameters\n",
      "encoder.layers.4.feed_forward_block.linear_1.bias: torch.Size([2048]), 2048 parameters\n",
      "encoder.layers.4.feed_forward_block.linear_2.weight: torch.Size([512, 2048]), 1048576 parameters\n",
      "encoder.layers.4.feed_forward_block.linear_2.bias: torch.Size([512]), 512 parameters\n",
      "encoder.layers.4.residual_connections.0.norm.alpha: torch.Size([512]), 512 parameters\n",
      "encoder.layers.4.residual_connections.0.norm.bias: torch.Size([512]), 512 parameters\n",
      "encoder.layers.4.residual_connections.1.norm.alpha: torch.Size([512]), 512 parameters\n",
      "encoder.layers.4.residual_connections.1.norm.bias: torch.Size([512]), 512 parameters\n",
      "encoder.layers.5.self_attention_block.w_q.weight: torch.Size([512, 512]), 262144 parameters\n",
      "encoder.layers.5.self_attention_block.w_k.weight: torch.Size([512, 512]), 262144 parameters\n",
      "encoder.layers.5.self_attention_block.w_v.weight: torch.Size([512, 512]), 262144 parameters\n",
      "encoder.layers.5.self_attention_block.w_o.weight: torch.Size([512, 512]), 262144 parameters\n",
      "encoder.layers.5.feed_forward_block.linear_1.weight: torch.Size([2048, 512]), 1048576 parameters\n",
      "encoder.layers.5.feed_forward_block.linear_1.bias: torch.Size([2048]), 2048 parameters\n",
      "encoder.layers.5.feed_forward_block.linear_2.weight: torch.Size([512, 2048]), 1048576 parameters\n",
      "encoder.layers.5.feed_forward_block.linear_2.bias: torch.Size([512]), 512 parameters\n",
      "encoder.layers.5.residual_connections.0.norm.alpha: torch.Size([512]), 512 parameters\n",
      "encoder.layers.5.residual_connections.0.norm.bias: torch.Size([512]), 512 parameters\n",
      "encoder.layers.5.residual_connections.1.norm.alpha: torch.Size([512]), 512 parameters\n",
      "encoder.layers.5.residual_connections.1.norm.bias: torch.Size([512]), 512 parameters\n",
      "encoder.norm.alpha: torch.Size([512]), 512 parameters\n",
      "encoder.norm.bias: torch.Size([512]), 512 parameters\n",
      "decoder.layers.0.self_attention_block.w_q.weight: torch.Size([512, 512]), 262144 parameters\n",
      "decoder.layers.0.self_attention_block.w_k.weight: torch.Size([512, 512]), 262144 parameters\n",
      "decoder.layers.0.self_attention_block.w_v.weight: torch.Size([512, 512]), 262144 parameters\n",
      "decoder.layers.0.self_attention_block.w_o.weight: torch.Size([512, 512]), 262144 parameters\n",
      "decoder.layers.0.cross_attention_block.w_q.weight: torch.Size([512, 512]), 262144 parameters\n",
      "decoder.layers.0.cross_attention_block.w_k.weight: torch.Size([512, 512]), 262144 parameters\n",
      "decoder.layers.0.cross_attention_block.w_v.weight: torch.Size([512, 512]), 262144 parameters\n",
      "decoder.layers.0.cross_attention_block.w_o.weight: torch.Size([512, 512]), 262144 parameters\n",
      "decoder.layers.0.feed_forward_block.linear_1.weight: torch.Size([2048, 512]), 1048576 parameters\n",
      "decoder.layers.0.feed_forward_block.linear_1.bias: torch.Size([2048]), 2048 parameters\n",
      "decoder.layers.0.feed_forward_block.linear_2.weight: torch.Size([512, 2048]), 1048576 parameters\n",
      "decoder.layers.0.feed_forward_block.linear_2.bias: torch.Size([512]), 512 parameters\n",
      "decoder.layers.0.residual_connections.0.norm.alpha: torch.Size([512]), 512 parameters\n",
      "decoder.layers.0.residual_connections.0.norm.bias: torch.Size([512]), 512 parameters\n",
      "decoder.layers.0.residual_connections.1.norm.alpha: torch.Size([512]), 512 parameters\n",
      "decoder.layers.0.residual_connections.1.norm.bias: torch.Size([512]), 512 parameters\n",
      "decoder.layers.0.residual_connections.2.norm.alpha: torch.Size([512]), 512 parameters\n",
      "decoder.layers.0.residual_connections.2.norm.bias: torch.Size([512]), 512 parameters\n",
      "decoder.layers.1.self_attention_block.w_q.weight: torch.Size([512, 512]), 262144 parameters\n",
      "decoder.layers.1.self_attention_block.w_k.weight: torch.Size([512, 512]), 262144 parameters\n",
      "decoder.layers.1.self_attention_block.w_v.weight: torch.Size([512, 512]), 262144 parameters\n",
      "decoder.layers.1.self_attention_block.w_o.weight: torch.Size([512, 512]), 262144 parameters\n",
      "decoder.layers.1.cross_attention_block.w_q.weight: torch.Size([512, 512]), 262144 parameters\n",
      "decoder.layers.1.cross_attention_block.w_k.weight: torch.Size([512, 512]), 262144 parameters\n",
      "decoder.layers.1.cross_attention_block.w_v.weight: torch.Size([512, 512]), 262144 parameters\n",
      "decoder.layers.1.cross_attention_block.w_o.weight: torch.Size([512, 512]), 262144 parameters\n",
      "decoder.layers.1.feed_forward_block.linear_1.weight: torch.Size([2048, 512]), 1048576 parameters\n",
      "decoder.layers.1.feed_forward_block.linear_1.bias: torch.Size([2048]), 2048 parameters\n",
      "decoder.layers.1.feed_forward_block.linear_2.weight: torch.Size([512, 2048]), 1048576 parameters\n",
      "decoder.layers.1.feed_forward_block.linear_2.bias: torch.Size([512]), 512 parameters\n",
      "decoder.layers.1.residual_connections.0.norm.alpha: torch.Size([512]), 512 parameters\n",
      "decoder.layers.1.residual_connections.0.norm.bias: torch.Size([512]), 512 parameters\n",
      "decoder.layers.1.residual_connections.1.norm.alpha: torch.Size([512]), 512 parameters\n",
      "decoder.layers.1.residual_connections.1.norm.bias: torch.Size([512]), 512 parameters\n",
      "decoder.layers.1.residual_connections.2.norm.alpha: torch.Size([512]), 512 parameters\n",
      "decoder.layers.1.residual_connections.2.norm.bias: torch.Size([512]), 512 parameters\n",
      "decoder.layers.2.self_attention_block.w_q.weight: torch.Size([512, 512]), 262144 parameters\n",
      "decoder.layers.2.self_attention_block.w_k.weight: torch.Size([512, 512]), 262144 parameters\n",
      "decoder.layers.2.self_attention_block.w_v.weight: torch.Size([512, 512]), 262144 parameters\n",
      "decoder.layers.2.self_attention_block.w_o.weight: torch.Size([512, 512]), 262144 parameters\n",
      "decoder.layers.2.cross_attention_block.w_q.weight: torch.Size([512, 512]), 262144 parameters\n",
      "decoder.layers.2.cross_attention_block.w_k.weight: torch.Size([512, 512]), 262144 parameters\n",
      "decoder.layers.2.cross_attention_block.w_v.weight: torch.Size([512, 512]), 262144 parameters\n",
      "decoder.layers.2.cross_attention_block.w_o.weight: torch.Size([512, 512]), 262144 parameters\n",
      "decoder.layers.2.feed_forward_block.linear_1.weight: torch.Size([2048, 512]), 1048576 parameters\n",
      "decoder.layers.2.feed_forward_block.linear_1.bias: torch.Size([2048]), 2048 parameters\n",
      "decoder.layers.2.feed_forward_block.linear_2.weight: torch.Size([512, 2048]), 1048576 parameters\n",
      "decoder.layers.2.feed_forward_block.linear_2.bias: torch.Size([512]), 512 parameters\n",
      "decoder.layers.2.residual_connections.0.norm.alpha: torch.Size([512]), 512 parameters\n",
      "decoder.layers.2.residual_connections.0.norm.bias: torch.Size([512]), 512 parameters\n",
      "decoder.layers.2.residual_connections.1.norm.alpha: torch.Size([512]), 512 parameters\n",
      "decoder.layers.2.residual_connections.1.norm.bias: torch.Size([512]), 512 parameters\n",
      "decoder.layers.2.residual_connections.2.norm.alpha: torch.Size([512]), 512 parameters\n",
      "decoder.layers.2.residual_connections.2.norm.bias: torch.Size([512]), 512 parameters\n",
      "decoder.layers.3.self_attention_block.w_q.weight: torch.Size([512, 512]), 262144 parameters\n",
      "decoder.layers.3.self_attention_block.w_k.weight: torch.Size([512, 512]), 262144 parameters\n",
      "decoder.layers.3.self_attention_block.w_v.weight: torch.Size([512, 512]), 262144 parameters\n",
      "decoder.layers.3.self_attention_block.w_o.weight: torch.Size([512, 512]), 262144 parameters\n",
      "decoder.layers.3.cross_attention_block.w_q.weight: torch.Size([512, 512]), 262144 parameters\n",
      "decoder.layers.3.cross_attention_block.w_k.weight: torch.Size([512, 512]), 262144 parameters\n",
      "decoder.layers.3.cross_attention_block.w_v.weight: torch.Size([512, 512]), 262144 parameters\n",
      "decoder.layers.3.cross_attention_block.w_o.weight: torch.Size([512, 512]), 262144 parameters\n",
      "decoder.layers.3.feed_forward_block.linear_1.weight: torch.Size([2048, 512]), 1048576 parameters\n",
      "decoder.layers.3.feed_forward_block.linear_1.bias: torch.Size([2048]), 2048 parameters\n",
      "decoder.layers.3.feed_forward_block.linear_2.weight: torch.Size([512, 2048]), 1048576 parameters\n",
      "decoder.layers.3.feed_forward_block.linear_2.bias: torch.Size([512]), 512 parameters\n",
      "decoder.layers.3.residual_connections.0.norm.alpha: torch.Size([512]), 512 parameters\n",
      "decoder.layers.3.residual_connections.0.norm.bias: torch.Size([512]), 512 parameters\n",
      "decoder.layers.3.residual_connections.1.norm.alpha: torch.Size([512]), 512 parameters\n",
      "decoder.layers.3.residual_connections.1.norm.bias: torch.Size([512]), 512 parameters\n",
      "decoder.layers.3.residual_connections.2.norm.alpha: torch.Size([512]), 512 parameters\n",
      "decoder.layers.3.residual_connections.2.norm.bias: torch.Size([512]), 512 parameters\n",
      "decoder.layers.4.self_attention_block.w_q.weight: torch.Size([512, 512]), 262144 parameters\n",
      "decoder.layers.4.self_attention_block.w_k.weight: torch.Size([512, 512]), 262144 parameters\n",
      "decoder.layers.4.self_attention_block.w_v.weight: torch.Size([512, 512]), 262144 parameters\n",
      "decoder.layers.4.self_attention_block.w_o.weight: torch.Size([512, 512]), 262144 parameters\n",
      "decoder.layers.4.cross_attention_block.w_q.weight: torch.Size([512, 512]), 262144 parameters\n",
      "decoder.layers.4.cross_attention_block.w_k.weight: torch.Size([512, 512]), 262144 parameters\n",
      "decoder.layers.4.cross_attention_block.w_v.weight: torch.Size([512, 512]), 262144 parameters\n",
      "decoder.layers.4.cross_attention_block.w_o.weight: torch.Size([512, 512]), 262144 parameters\n",
      "decoder.layers.4.feed_forward_block.linear_1.weight: torch.Size([2048, 512]), 1048576 parameters\n",
      "decoder.layers.4.feed_forward_block.linear_1.bias: torch.Size([2048]), 2048 parameters\n",
      "decoder.layers.4.feed_forward_block.linear_2.weight: torch.Size([512, 2048]), 1048576 parameters\n",
      "decoder.layers.4.feed_forward_block.linear_2.bias: torch.Size([512]), 512 parameters\n",
      "decoder.layers.4.residual_connections.0.norm.alpha: torch.Size([512]), 512 parameters\n",
      "decoder.layers.4.residual_connections.0.norm.bias: torch.Size([512]), 512 parameters\n",
      "decoder.layers.4.residual_connections.1.norm.alpha: torch.Size([512]), 512 parameters\n",
      "decoder.layers.4.residual_connections.1.norm.bias: torch.Size([512]), 512 parameters\n",
      "decoder.layers.4.residual_connections.2.norm.alpha: torch.Size([512]), 512 parameters\n",
      "decoder.layers.4.residual_connections.2.norm.bias: torch.Size([512]), 512 parameters\n",
      "decoder.layers.5.self_attention_block.w_q.weight: torch.Size([512, 512]), 262144 parameters\n",
      "decoder.layers.5.self_attention_block.w_k.weight: torch.Size([512, 512]), 262144 parameters\n",
      "decoder.layers.5.self_attention_block.w_v.weight: torch.Size([512, 512]), 262144 parameters\n",
      "decoder.layers.5.self_attention_block.w_o.weight: torch.Size([512, 512]), 262144 parameters\n",
      "decoder.layers.5.cross_attention_block.w_q.weight: torch.Size([512, 512]), 262144 parameters\n",
      "decoder.layers.5.cross_attention_block.w_k.weight: torch.Size([512, 512]), 262144 parameters\n",
      "decoder.layers.5.cross_attention_block.w_v.weight: torch.Size([512, 512]), 262144 parameters\n",
      "decoder.layers.5.cross_attention_block.w_o.weight: torch.Size([512, 512]), 262144 parameters\n",
      "decoder.layers.5.feed_forward_block.linear_1.weight: torch.Size([2048, 512]), 1048576 parameters\n",
      "decoder.layers.5.feed_forward_block.linear_1.bias: torch.Size([2048]), 2048 parameters\n",
      "decoder.layers.5.feed_forward_block.linear_2.weight: torch.Size([512, 2048]), 1048576 parameters\n",
      "decoder.layers.5.feed_forward_block.linear_2.bias: torch.Size([512]), 512 parameters\n",
      "decoder.layers.5.residual_connections.0.norm.alpha: torch.Size([512]), 512 parameters\n",
      "decoder.layers.5.residual_connections.0.norm.bias: torch.Size([512]), 512 parameters\n",
      "decoder.layers.5.residual_connections.1.norm.alpha: torch.Size([512]), 512 parameters\n",
      "decoder.layers.5.residual_connections.1.norm.bias: torch.Size([512]), 512 parameters\n",
      "decoder.layers.5.residual_connections.2.norm.alpha: torch.Size([512]), 512 parameters\n",
      "decoder.layers.5.residual_connections.2.norm.bias: torch.Size([512]), 512 parameters\n",
      "decoder.norm.alpha: torch.Size([512]), 512 parameters\n",
      "decoder.norm.bias: torch.Size([512]), 512 parameters\n",
      "src_embed.embedding.weight: torch.Size([30000, 512]), 15360000 parameters\n",
      "tgt_embed.embedding.weight: torch.Size([30000, 512]), 15360000 parameters\n",
      "projection_layer.proj.weight: torch.Size([30000, 512]), 15360000 parameters\n",
      "projection_layer.proj.bias: torch.Size([30000]), 30000 parameters\n",
      "/kaggle/working/weights/tmodel_09.pt\n",
      "Preloading model /kaggle/working/weights/tmodel_09.pt\n"
     ]
    },
    {
     "name": "stderr",
     "output_type": "stream",
     "text": [
      "/kaggle/working/train.py:275: FutureWarning: You are using `torch.load` with `weights_only=False` (the current default value), which uses the default pickle module implicitly. It is possible to construct malicious pickle data which will execute arbitrary code during unpickling (See https://github.com/pytorch/pytorch/blob/main/SECURITY.md#untrusted-models for more details). In a future release, the default value for `weights_only` will be flipped to `True`. This limits the functions that could be executed during unpickling. Arbitrary objects will no longer be allowed to be loaded via this mode unless they are explicitly allowlisted by the user via `torch.serialization.add_safe_globals`. We recommend you start setting `weights_only=True` for any use case where you don't have full control of the loaded file. Please open an issue on GitHub for any issues related to this experimental feature.\n",
      "  state = torch.load(model_filename)\n"
     ]
    },
    {
     "name": "stdout",
     "output_type": "stream",
     "text": [
      "ok\n"
     ]
    },
    {
     "name": "stderr",
     "output_type": "stream",
     "text": [
      "Processing Epoch 10: 100%|██████████| 1648/1648 [15:22<00:00,  1.79it/s, loss=3.872]\n",
      "stty: 'standard input': Inappropriate ioctl for device\n"
     ]
    },
    {
     "name": "stdout",
     "output_type": "stream",
     "text": [
      "--------------------------------------------------------------------------------\n",
      "torch.Size([1, 254])\n",
      "torch.Size([1, 1, 1, 254])\n",
      "    SOURCE: Người Palestine_bị_thương được khiêng đi trong bạo_loạn hôm_nay . Một người Palestine_hôm_nay tử_vong sau khi trúng đạn của lực_lượng an_ninh_Israel trong cuộc biểu_tình ở Dải_Gaza , AFP dẫn tin từ Bộ Y_tế Palestine_cho_hay . Đây là người đầu_tiên_thiệt_mạng trong cuộc biểu_tình của người Palestine_phản_đối việc Tổng_thống Mỹ Donald_Trump tuyên_bố công_nhận Jerusalem là thủ_đô Israel . Nạn_nhân được xác_định là Mahmoud_al - Masri , 30 tuổi . Quân_đội Israel_xác_nhận đã bắn hai người dọc biên_giới , cáo_buộc họ \" chủ_mưu kích_động bạo_lực \" . Israel cho_biết hàng trăm người Palestine đã châm lửa đốt lốp xe và lăn qua biên_giới , ném đá vào binh_lính , theo Reuters . Tờ Haaretz_cho_hay ít_nhất 60 người bị_thương trong đụng_độ ở Bờ_Tây và Dải_Gaza . Gần 3.000 người biểu_tình đã tuần_hành quanh Bờ_Tây , gồm các thành_phố_Ramallah , Hebron và Bethlehem để phản_đối quyết_định của Tổng_thống_Trump . Họ ném chai xăng và đá về phía lực_lượng an_ninh Israel . Binh_sĩ và cảnh_sát_Israel đã bắn đạn thật , đạn cao_su và hơi cay để đáp trả .\n",
      "    TARGET: Một người Palestine_thiệt_mạng khi tham_gia biểu_tình ở Dải_Gaza_phản_đối việc Mỹ công_nhận Jerusalem là thủ_đô Israel .\n",
      " PREDICTED: Một người Palestine bị bắn chết tại thủ_đô Israel sau khi phe đối_lập dùng xăng để ám_sát Tổng_thống Mỹ_Donald_Trump .\n",
      "--------------------------------------------------------------------------------\n",
      "torch.Size([1, 254])\n",
      "torch.Size([1, 1, 1, 254])\n",
      "    SOURCE: Tuyến metro số 5 có hướng tuyến : Bến_xe_Cần_Giuộc mới - Quốc_lộ 50 - Tùng_Thiện_Vương - Lý_Thường_Kiệt - Hoàng_Văn_Thụ - Phan_Đăng_Lưu - Bạch_Đằng - Điện_Biên_Phủ - cầu Sài_Gòn . UBND TP HCM vừa có văn_bản gửi Bộ Kế_hoạch và Đầu_tư đăng_ký đề_xuất hỗ_trợ kỹ_thuật từ Chính_phủ_Hàn_Quốc cho tuyến nhánh metro từ ga Cộng_Hoà ( tuyến số 5 ) vào sân_bay Tân_Sơn_Nhất . Điều này nhằm xác_định các thông_số về địa_chất , địa_hình , thuỷ_văn , các khảo_sát chung ... dọc theo tuyến để thực_hiện_nghiên_cứu_khả_thi của dự_án về sau . Theo UBND thành_phố , hiện dự_án tuyến nhánh metro vào sân_bay Tân_Sơn_Nhất chưa có nghiên_cứu chính_thức . Dự_kiến_nhánh này dài khoảng 2 km từ ga Lăng_Cha_Cả ( nay là ga Cộng_Hoà của tuyến metro số 5 - giai_đoạn 1 ) đến sân_bay Tân_Sơn_Nhất , gồm 2 nhà_ga , được thiết_kế_ngầm và vận_hành tự_động . Theo tính_toán , khi được đầu_tư_nhánh này sẽ đáp_ứng nhu_cầu_đi_lại rất lớn của hành_khách . Ngoài_ra , UBND TP HCM cũng đề_xuất hồ_sơ đăng_ký dự_án hỗ_trợ cho nghiên_cứu tiền_khả_thi và nghiên_cứu_khả_thi của dự_án xây_dựng tuyến metro số 5 - giai_đoạn 2 ( đoạn ngã tư Bảy_Hiền - Bến_xe Cần_Giuộc mới ) . Tuyến metro số 5 có tổng_chiều_dài hơn 24 km , tổng_số vốn hai giai_đoạn khoảng hơn 2,6 tỷ USD . Bắt_đầu từ cầu Sài_Gòn và kết_thúc tại bến_xe Cần_Giuộc mới với depot tại huyện Bình_Chánh , kết_nối các tuyến metro số 1 , 2 , 3 a , tuyến 5 - giai_đoạn 1 và tuyến nhánh sân_bay Tân_Sơn_Nhất . Hữu_Công Tuyến metro số 5 có hướng tuyến : Bến_xe_Cần_Giuộc mới - Quốc_lộ 50 - Tùng_Thiện_Vương - Lý_Thường_Kiệt - Hoàng_Văn_Thụ - Phan_Đăng_Lưu - Bạch_Đằng - Điện_Biên_Phủ - cầu Sài_Gòn .\n",
      "    TARGET: Dài khoảng 2 km từ ga Lăng_Cha_Cả ( nay là ga Cộng_Hoà ) đến sân_bay Tân_Sơn_Nhất , tuyến nhánh sân_bay Tân_Sơn_Nhất sẽ gồm 2 nhà_ga , được thiết_kế_ngầm và tự vận_hành .\n",
      " PREDICTED: UBND TP . HCM vừa có văn_bản gửi Bộ Giao_thông - Vận_tải , đơn_vị liên_quan đề_xuất bán vé xe_buýt tuyến metro số 1 ( Bến_Thành - Suối_Tiên ) cho các đơn_vị\n",
      "--------------------------------------------------------------------------------\n"
     ]
    },
    {
     "name": "stderr",
     "output_type": "stream",
     "text": [
      "/opt/conda/lib/python3.10/site-packages/torchmetrics/utilities/prints.py:62: FutureWarning: Importing `CharErrorRate` from `torchmetrics` was deprecated and will be removed in 2.0. Import `CharErrorRate` from `torchmetrics.text` instead.\n",
      "  _future_warning(\n",
      "/opt/conda/lib/python3.10/site-packages/torchmetrics/utilities/prints.py:62: FutureWarning: Importing `WordErrorRate` from `torchmetrics` was deprecated and will be removed in 2.0. Import `WordErrorRate` from `torchmetrics.text` instead.\n",
      "  _future_warning(\n",
      "/opt/conda/lib/python3.10/site-packages/torchmetrics/utilities/prints.py:62: FutureWarning: Importing `BLEUScore` from `torchmetrics` was deprecated and will be removed in 2.0. Import `BLEUScore` from `torchmetrics.text` instead.\n",
      "  _future_warning(\n",
      "Processing Epoch 11: 100%|██████████| 1648/1648 [15:22<00:00,  1.79it/s, loss=3.616]\n",
      "stty: 'standard input': Inappropriate ioctl for device\n"
     ]
    },
    {
     "name": "stdout",
     "output_type": "stream",
     "text": [
      "--------------------------------------------------------------------------------\n",
      "torch.Size([1, 254])\n",
      "torch.Size([1, 1, 1, 254])\n",
      "    SOURCE: Hôm_nay ( 20-8 ) là ngày học_sinh Nghệ_An_tựu_trường , chuẩn_bị bước vào năm_học mới . Thế_nhưng nhiều trường_học ở các huyện miền núi vẫn đang ngổn_ngang bùn_đất , đồ_dùng học_tập bị hư_hỏng sau đợt mưa_lũ . Trường tiểu_học và Trường mầm_non_Mường_Xén - huyện miền núi Kỳ_Sơn , nằm cách sông Nậm_Mộ chỉ chừng 10 m - là hai ngôi trường bị ảnh_hưởng nặng_nề nhất sau trận lũ_quét hôm 17-8 . Dù chính_quyền_địa_phương đã đầu_tư xây bờ kè bằng bêtông để đảm_bảo an_toàn trường_lớp , nhưng cơn lũ mạnh làm nước dâng cao gần nửa mét mang theo hàng ngàn mét_khối đất , đá đổ ập vào trường . Nước lũ rút , bùn non_ngập_ngụa trong từng lớp_học , khu nhà ở nội_trú của giáo_viên . Nhiều giáo_viên vẫn chưa hết ám_ảnh , bàng_hoàng khi nhớ lại trận lũ_quét kinh_hoàng . Vừa nhặt_nhạnh một_số ít bát_đũa , đồ_dùng nấu_ăn còn mắc_kẹt ở hàng_rào , cô Trần_Thị_Thơm - giáo_viên Trường tiểu_học Mường_Xén - cho_biết trận lũ_quét qua trường quá nhanh khiến các thầy_cô không kịp trở_tay . \" Khi nghe tin có bão vào , chúng_tôi không nghĩ là nước lũ lại dâng nhanh đến vậy . Vừa đưa một_số đồ_đạc lên tầng hai thì nước lũ cuồn_cuộn ập vào , toàn_bộ đồ_đạc , quần_áo trong phòng ở đều bị lũ cuốn sạch . Năm_học mới sắp đến , chúng_tôi chắc phải tìm nhà_trọ bên ngoài để ở \" - cô Thơm_lo_lắng .\n",
      "    TARGET: Mưa lớn gây lũ làm ngập nhiều trường_học miền núi phía Bắc , khiến việc trở_lại_trường của trẻ_em gặp khó_khăn .\n",
      " PREDICTED: Hàng ngàn trường_học ở miền núi Kỳ_Sơn , Nghệ_An bị lũ cuốn trôi khi lũ ập đến , nhiều trường_học phải sơ_tán .\n",
      "--------------------------------------------------------------------------------\n",
      "torch.Size([1, 254])\n",
      "torch.Size([1, 1, 1, 254])\n",
      "    SOURCE: Đây là vụ án gian_lận thi_cử được phát_hiện sớm nhất ( hai tỉnh phát_hiện tiếp sau là Sơn_La và Hoà_Bình ) , có số_lượng thí_sinh được nâng điểm nhiều nhất ( 107 thí_sinh ) và có số cán_bộ , đảng_viên_liên_quan cũng nhiều nhất ( 210 phụ_huynh ) . Cần nâng điểm cho một_số trường_hợp đặc_biệt Đầu tháng 5-2018 , Nguyễn_Thanh_Hoài ( trưởng_phòng khảo_thí và quản_lý chất_lượng giáo_dục Sở GD-ĐT_Hà_Giang ) gọi Vũ_Trọng_Lương , phó trưởng_phòng khảo_thí và là kỹ_thuật_viên xử_lý bài thi_trắc_nghiệm kỳ thi THPT quốc_gia 2018 tại Hà_Giang , sang phòng làm_việc của mình . Tại đây , Hoài nói với Lương trong kỳ thi sắp tới \" cần nâng điểm cho một_số trường_hợp đặc_biệt \" . Lương_đồng_ý và cho_hay cần xem thêm phần_mềm quản_lý thi của Bộ GD-ĐT . Khoảng 3-4 ngày sau khi tổ_chức_quét và chấm thử trên phần_mềm xử_lý bài thi_trắc_nghiệm của Bộ GD-ĐT , Vũ_Trọng_Lương phát_hiện phần_mềm có \" lỗ_hổng \" , cụ_thể là Bộ GD-ĐT chỉ yêu_cầu gửi file Excel , nên nói với Hoài là \" có_thể xử_lý nâng điểm được \" . 3 lần chuyển danh_sách \" nhờ_vả \" nâng_điểm Khoảng đầu tháng 6-2018 , bị_cáo Nguyễn_Thanh_Hoài_tải danh_sách M9 ( danh_sách thí_sinh tham_dự thi THPT quốc_gia năm 2018 tại Hà_Giang , gồm tổng_số 5.499_thí_sinh ) từ phần_mềm quản_lý thi THPT quốc_gia về máy_tính của Hoài , sau đó bôi màu vàng để đánh_dấu các thí_sinh mà Hoài_nhận nâng điểm giúp cùng với số điểm cần nâng vào cuối mỗi dòng thông_tin của thí_sinh , tổng_số 55 trường_hợp . Trong số này có thí_sinh Phạm_Tuấn_N . , con_trai ông Phạm_Văn_Khuông - phó giám_đốc Sở GD-ĐT_Hà_Giang , và 20 trường_hợp do bà Lê_Thị_Dung ở phòng An_ninh chính_trị nội_bộ Công_an tỉnh Hà_Giang \" nhờ_vả \" . Hoài lưu_danh_sách thí_sinh vào USB đưa cho Lương , nói danh_sách thí_sinh cần nâng điểm Hoài đã đánh_dấu bằng cách bôi màu vàng . Hoài còn đưa Lương_ba tờ giấy khổ A4 , trong đó một tờ viết_tay và hai tờ đánh_máy_vi_tính , tổng_cộng có thông_tin của 22 thí_sinh cần nâng điểm .\n",
      "    TARGET: Theo kế_hoạch , trung_tuần tháng 7 tới , TAND tỉnh Hà_Giang đưa ra xét_xử sơ_thẩm vụ án \" lợi_dụng chức_vụ , quyền_hạn trong khi thi_hành_công_vụ \" trong kỳ thi THPT quốc_gia năm 2018 tại tỉnh này .\n",
      " PREDICTED: Ngày 28 - 6 , Cơ_quan An_ninh_điều_tra Bộ Công_an đã tống_đạt quyết_định khởi_tố vụ án gian_lận thi_cử tại tỉnh Hoà_Bình và Sơn_La .\n",
      "--------------------------------------------------------------------------------\n"
     ]
    },
    {
     "name": "stderr",
     "output_type": "stream",
     "text": [
      "Processing Epoch 12: 100%|██████████| 1648/1648 [15:22<00:00,  1.79it/s, loss=3.565]\n",
      "stty: 'standard input': Inappropriate ioctl for device\n"
     ]
    },
    {
     "name": "stdout",
     "output_type": "stream",
     "text": [
      "--------------------------------------------------------------------------------\n",
      "torch.Size([1, 254])\n",
      "torch.Size([1, 1, 1, 254])\n",
      "    SOURCE: Tại buổi lễ này , Tạp_chí_Asiamoney đã trao giải_thưởng \" Thương_hiệu ngân_hàng tốt nhất Việt_Nam \" ( Best_Banking_Brand in Vietnam ) cho Ngân_hàng_Vietcombank . Giải_thưởng được đánh_giá dựa trên nghiên_cứu và bình_chọn của các nhà_đầu_tư , tài_chính trong cộng_đồng tài_chính ngân_hàng . Tạp_chí đã bình_chọn ra các thương_hiệu uy_tín nhất , ngân_hàng tiêu_biểu tại Úc , Trung_Quốc , Hong_Kong , Ấn_Độ , Indonesia , Nhật_Bản , Malaysia , Philippines , Singapore , Thái_Lan và Việt_Nam . Đây là năm đầu_tiên Asiamoney tổ_chức xét giải Thương_hiệu tài_chính tốt nhất , và Vietcombank là ngân_hàng đầu_tiên tại Việt_Nam được vinh_danh trong gói giải_thưởng . Sự_kiện có sự góp_mặt của lãnh_đạo các tập_đoàn , ngân_hàng , định_chế tài_chính hàng_đầu khu_vực đến từ nhiều quốc_gia . Đại_diện cho Vietcombank có ông Phạm_Mạnh_Thắng , Phó_Tổng_Giám_đốc , cùng một_số phòng_ban liên_quan . Chia_sẻ tại buổi lễ , ông Phạm_Mạnh_Thắng , Phó Tổng_Giám_đốc_Vietcombank , cho_biết trong thời_gian qua ngân_hàng này đã đạt được sự phát_triển_ổn_định , bền_vững , tạo được những bứt_phá quan_trọng trong hoạt_động kinh_doanh . Chất_lượng_tài_sản của Vietcombank được đánh_giá tốt nhất trong các ngân_hàng_Việt_Nam , hiệu_quả hoạt_động luôn dẫn_đầu … Đây chính là những yếu_tố mà Vietcombank luôn được thị_trường cũng như các tổ_chức_uy_tín trong nước và quốc_tế đánh_giá cao . Giải_thưởng lần này là minh_chứng cho nỗ_lực không ngừng của Vietcombank trong kiến_tạo giá_trị cho khách_hàng , thị_trường và xã_hội . Asiamoney thuộc tập_đoàn Euromoney_Institutional_Investor_PLC , là tạp_chí chuyên về tài_chính , đăng_tải các thông_tin liên_quan tới phân_tích thị_trường tài_chính ngân_hàng tại khu_vực châu_Á với các ấn_phẩm báo in , báo_điện_tử xuất_bản và phát_hành rộng_rãi khoảng 15.700 ấn_bản hàng năm ... Vietcombank từng nhận nhiều giải_thưởng của tạp_chí như : Ngân_hàng nội_địa tốt nhất Việt_Nam , Ngân_hàng tốt nhất Việt_Nam trong quản_lý tiền_mặt , kinh_doanh_ngoại_hối … Ông Phạm_Mạnh_Thắng - Phó tổng_giám_đốc ( giữa ) nhận giải_thưởng \" Thương_hiệu ngân_hàng tốt nhất Việt_Nam \" do Asiamoney_trao_tặng tại thủ_đô của Trung_Quốc ngày 26-9 .\n",
      "    TARGET: Ngày 26-9 , tại Bắc_Kinh , Tạp_chí_Asiamoney đã tổ_chức_Lễ trao giải_thưởng \" Thương_hiệu tài_chính tốt nhất \" nhằm vinh_danh các thương_hiệu đứng đầu tại mỗi quốc_gia trong khu_vực châu_Á - Thái_Bình_Dương .\n",
      " PREDICTED: Ngân_hàng ( ) vinh_dự được trao giải_thưởng \" Ngân_hàng \" ( ) 2018 .\n",
      "--------------------------------------------------------------------------------\n",
      "torch.Size([1, 254])\n",
      "torch.Size([1, 1, 1, 254])\n",
      "    SOURCE: Ngày 30/10 , Viện Khoa_học_Lao_động và Xã_hội_công_bố bản tin thị_trường lao_động quý II / 2015 . Bản tin ghi_nhận tỷ_lệ thất_nghiệp trong độ tuổi lao_động giảm nhẹ , số lao_động thất_nghiệp trong khu_vực có trình_độ chuyên_môn tiếp_tục tăng . Trong quý II / 2015 , cả nước có 1,14 triệu lao_động thất_nghiệp ( 2,42 % ) , giảm 15.000 người so với đầu năm . Số người thất_nghiệp ở nông_thôn giảm trong khi thất_nghiệp ở thành_thị tăng , thất_nghiệp ở nữ_giới giảm và nam_giới tăng . Lực_lượng thanh_niên thất_nghiệp tiếp_tục tăng ( gần 6,7 % ) cao gần 3 lần so với tỷ_lệ thất_nghiệp chung của cả nước . Trong độ tuổi lao_động theo trình_độ chuyên_môn kỹ_thuật , ngoại_trừ nhóm tốt_nghiệp cao_đẳng có tỷ_lệ thất_nghiệp giảm từ 7,1 % xuống 6,6 % so với quý I , còn lại các nhóm khác đều tăng . Nhóm có trình_độ trung_cấp tăng từ 3,7 % lên hơn 4,4 % . Nhóm có trình_độ đại_học trở lên tăng mạnh nhất , từ 3,9 % lên 4,6 % , tức_là tăng từ 178.000 người lên gần 200.000 . Thí_sinh xếp_hàng nộp hồ_sơ thi_công_chức thuế Hà_Nội năm 2014 . Theo bà Nguyễn_Thị_Lan_Hương , Viện_trưởng Khoa_học_Lao_động và Xã_hội_tỷ_lệ trên chưa phải là chỉ_số phản_ánh hết được tình_trạng_lao_động của đất_nước .\n",
      "    TARGET: So với đầu năm , tỷ_lệ thất_nghiệp ở nhóm lao_động có trình_độ cao_đẳng , đại_học tiếp_tục tăng lên 22.000 người .\n",
      " PREDICTED: Theo số_liệu được công_bố , trong tháng 7 , nhóm lao_động có trình_độ cao đạt 6 . so với năm trước .\n",
      "--------------------------------------------------------------------------------\n"
     ]
    },
    {
     "name": "stderr",
     "output_type": "stream",
     "text": [
      "Processing Epoch 13: 100%|██████████| 1648/1648 [15:22<00:00,  1.79it/s, loss=3.113]\n",
      "stty: 'standard input': Inappropriate ioctl for device\n"
     ]
    },
    {
     "name": "stdout",
     "output_type": "stream",
     "text": [
      "--------------------------------------------------------------------------------\n",
      "torch.Size([1, 254])\n",
      "torch.Size([1, 1, 1, 254])\n",
      "    SOURCE: Theo ghi_nhận của Tuổi_Trẻ_Online , từ khoảng 16 g chiều 30-4 những con_đường dẫn ra Bãi_Sau và đường Thuỳ_Vân - Hạ_Long - Quang_Trung chạy dọc từ bãi này đến Bãi_Trước , lượng xe_cộ khá đông_đúc , tăng đột_biến so với các thời_điểm khác trong ngày . Nguyên_nhân là từ giờ này trở đi ánh nắng đã dịu nhẹ rất thích_hợp để tắm biển \" giải_nhiệt \" . Lúc này cũng là thuỷ_triều xuống nên bãi_tắm rộng hơn , có thêm \" đất \" để mọi người cùng tắm biển . Ngoài Bãi_Sau_đông_đúc , hai bãi_tắm vốn người địa_phương \" quen dùng \" là Bãi_Dứa , Bãi_Trước cũng chật_ních vì có thêm du_khách . Ở hai bãi này có những trụ nước_ngọt miễn_phí do chính_quyền lắp_đặt nên cũng hút khách đến . Ông Nguyễn_Khắc_Tộ - giám_đốc Ban quản_lý Các khu du_lịch TP Vũng_Tàu - cho_biết trong ngày 30-4 các bãi_tắm ở đây đã thu_hút gần 150.000 lượt du_khách . Con_số này cao hơn những ngày lễ đã qua . Theo ghi_nhận , tại các điểm công_cộng như công_viên , bờ kè , bãi_tắm , thảm_cỏ , TP Vũng_Tàu đều bố_trí người trực để nhắc_nhở , giải_tán du_khách bày đồ ra ăn_nhậu . Đáng chú_ý theo ông Tộ , đến chiều 30-4 ở các bãi_tắm_Vũng_Tàu chưa nhận được tin báo hay phát_hiện ra trường_hợp nào du_khách bị đuối nước . Bãi_Sau , TP Vũng_Tàu chiều 30-4 đông_nghịt du_khách - Ảnh : ĐÔNG_HÀ .\n",
      "    TARGET: àng về chiều , khi ánh nắng dịu bớt cũng là lúc du_khách ùn_ùn đổ về các bãi_tắm ở Vũng_Tàu . Từ Bãi_Sau , qua Bãi_Dứa đến Bãi_Trước , đều ngập_tràn người tắm biển “ giải_nhiệt ” .\n",
      " PREDICTED: Thời_tiết tại TP Vũng_Tàu , Bãi_Sau có đến hơn 1 . 000 du_khách khi tắm biển . Thời_tiết này cũng như thời_tiết nắng , du_khách xa hơn .\n",
      "--------------------------------------------------------------------------------\n",
      "torch.Size([1, 254])\n",
      "torch.Size([1, 1, 1, 254])\n",
      "    SOURCE: Sáng 8-3 , ông Đỗ_Ngọc_Hoà - trưởng Công_an phường 1 , TP Đà_Lạt , Lâm_Đồng - cho_biết đã hoàn_tất hồ_sơ liên_quan đến việc nhân_viên quán ăn Bích_Thuỷ ( khu_vực chợ đêm Đà_Lạt ) đánh du_khách ngất_xỉu phải cấp_cứu tại bệnh_viện . Ông Hòa_cho_biết với những chứng_cứ ghi_nhận từ camera_an_ninh tại chợ đêm Đà_Lạt , nhân_viên quán ăn Bích_Thuỷ đã thừa_nhận hành_vi đánh người . Công_an phường 1 đang cân_nhắc xử_phạt hành_chính các hành_vi gây_rối trật_tự công_cộng , xâm_hại thân_thể người khác … Về phía Ban quản_lý chợ Đà_Lạt , sau khi có kết_quả xử_lý của công_an sẽ đối_chiếu với hợp_đồng cho thuê mặt_bằng , cam_kết của hộ kinh_doanh Bích_Thuỷ để rút giấy_phép kinh_doanh hoặc đình_chỉ kinh_doanh có thời_hạn . Theo tường_trình của chị Nguyễn_Thị_Cẩm_Vân ( sinh năm 1998 , trú TP Biên_Hoà , Đồng_Nai ) , lúc 19 h tối_6-3 , chị cùng chị họ là Do_Saphia_Thuy ( sinh năm 1990 , quốc_tịch Mỹ ) cùng bốn người trong gia_đình đến quán cơm_Bích_Thuỷ nằm trong khu chợ đêm chợ Đà_Lạt ( đường Nguyễn_Thị_Minh_Khai , phường 1 ) ăn tối . Cả nhóm gọi 4 đĩa cơm gà và 2 đĩa cơm_sườn . Khi đồ_ăn được mang đến , mọi người thấy cơm bị nguội , còn phần thịt gà của chị Saphia_Thuy xé ra còn máu đỏ . Chị Saphia_Thuy_phàn_nàn nên quán đổi một đĩa cơm khác và nhân_viên_quán có nói lại : \" Gà người_ta nấu như_thế_này mà bảo gà sống \" rồi bỏ đi . Thấy phần cơm không có canh , nhóm khách lại hỏi nên nhân_viên mang ra một tô_canh . Mọi người cẩn_thận hỏi lại đây là canh kèm cơm hay tính tiền thêm , nhân_viên trả_lời đây là canh bán riêng , giá 100.000 đồng / tô . Chị Vân nói thấy quán ăn buôn_bán không rõ_ràng , không ai còn tâm_trạng vui_vẻ để ăn nên không nhận phần canh đó rồi ăn_qua_loa để rời quán .\n",
      "    TARGET: Theo Công_an phường 1 , TP Đà_Lạt , tuy nhóm du_khách bị đánh đề_nghị không truy_cứu , nhưng do tính_chất vụ_việc nghiêm_trọng nên công_an vẫn xử_lý .\n",
      " PREDICTED: Công_an TP Đà_Lạt ( Lâm_Đồng ) cho_biết đã xử_lý vụ xô_xát xảy ra tại chợ , phường , TP Đà_Lạt .\n",
      "--------------------------------------------------------------------------------\n"
     ]
    },
    {
     "name": "stderr",
     "output_type": "stream",
     "text": [
      "Processing Epoch 14: 100%|██████████| 1648/1648 [15:22<00:00,  1.79it/s, loss=3.180]\n",
      "stty: 'standard input': Inappropriate ioctl for device\n"
     ]
    },
    {
     "name": "stdout",
     "output_type": "stream",
     "text": [
      "--------------------------------------------------------------------------------\n",
      "torch.Size([1, 254])\n",
      "torch.Size([1, 1, 1, 254])\n",
      "    SOURCE: Cơ_quan cảnh_sát điều_tra Công_an TP. HCM cho_biết sau khi có căn_cứ sẽ phục_hồi điều_tra xử_lý theo quy_định . Chiều 20-11 , Chi_cục_Hải_quan cửa_khẩu cảng Sài_Gòn khu_vực 1 ( Cục Hải_quan TP. HCM ) cho_biết Cơ_quan cảnh_sát điều_tra Công_an TP. HCM vừa thông_tin nội_dung nói trên . Bốn vụ án bị đình_chỉ điều_tra gồm : Công_ty_TNHH DV_VT_GN hàng_hoá XNK Huỳnh_Phát có dấu_hiệu buôn_lậu 529 kg ngà_voi châu_Phi , bị phát_hiện vào cuối tháng 11 - 2016 . Vụ \" buôn_lậu \" gần 1 tấn ngà_voi thông_qua việc sử_dụng pháp_nhân là Công_ty_TNHH TM_DV Diệu_Tiên bị cơ_quan hải_quan phát_hiện 10 - 2016 . Công_ty TNHH dịch_vụ vận_tải giao_nhận hàng_hoá XNK Kim_Thành nhập_khẩu 619 kg ngà_voi , bị cơ_quan hải_quan phát_hiện tháng 11 - 2016 . Công_ty TNHH MTV_dịch_vụ Tam_Phúc_nhập lậu gần nửa tấn ngà_voi , bị phát_hiện , bắt_giữ vào tháng 12 - 2016 . Trước đó bốn vụ nói trên đã bị Chi_cục_Hải_quan cửa_khẩu cảng Sài_Gòn_khu_vực 1 ra quyết_định khởi_tố vụ án hình_sự về tội buôn_lậu . Sau đó được lực_lượng hải_quan chuyển hồ_sơ cho cơ_quan Cảnh_sát_điều_tra - Công_an TP. HCM Các vụ buôn_lậu ngà_voi nêu trên đều xảy ra tại cảng Cát_Lái ( Q . 2 , TP. HCM ) . Tang_vật một vụ buôn_lậu ngà_voi bị lực_lượng hải_quan TP. HCM bắt_giữ - Ảnh : T.Q .\n",
      "    TARGET: Cơ_quan cảnh_sát điều_tra Công_an TP. HCM cho_biết thời_hạn điều_tra vụ án đã hết , chưa xác_định được đầy_đủ đối_tượng thực_hiện hành_vi phạm_tội nên đã tạm đình_chỉ điều_tra vụ án .\n",
      " PREDICTED: Cơ_quan cảnh_sát điều_tra Công_an TP . HCM cho_biết đã khởi_tố vụ án , khám_xét cảng của .\n",
      "--------------------------------------------------------------------------------\n",
      "torch.Size([1, 254])\n",
      "torch.Size([1, 1, 1, 254])\n",
      "    SOURCE: Theo đó , đoàn công_tác do ông Nguyễn_Nam_Hùng , giám_đốc Sở Y_tế tỉnh Thừa_Thiên - Huế , đã đến Trung_tâm Y_tế huyện Phong_Điền để xin_lỗi bác_sĩ Truyện vào sáng cùng ngày . Sau khi tiến_hành xin_lỗi , ông Nguyễn_Đắc_Ngọc , trưởng_phòng tổ_chức cán_bộ thuộc Sở Y_tế , cho_biết sẽ làm_việc với Sở Nội_vụ để thu_hồi quyết_định kỷ_luật mức khiển_trách đối_với bác_sĩ_Hoàng_Công_Truyện . Cũng trong_sáng_23-10 , đại_diện Sở Thông_tin - truyền_thông tỉnh Thừa_Thiên - Huế cho_biết đến 16 h chiều cùng ngày sẽ thông_tin chính_thức việc thu_hồi quyết_định xử_phạt hành_chính 5 triệu đồng đối_với bác_sĩ Truyện trước đó . Như_Tuổi_Trẻ đã thông_tin , do đăng_tải lên trang Facebook cá_nhân nội_dung \" khuyên \" Bộ_trưởng Bộ Y_tế Nguyễn_Thị_Kim_Tiến_nghỉ_việc , bác_sĩ_Hoàng_Công_Truyện ( đang công_tác tại Trung_tâm_Y_tế huyện Phong_Điền ) đã bị kỷ_luật khiển_trách và bị phạt hành_chính 5 triệu đồng . Sau khi được thông_tin , Bộ_Y_tế và Bộ Thông_tin_truyền_thông đã có chỉ_đạo xem_xét lại vụ_việc . Nếu không có bằng_chứng gì thêm về việc bác_sĩ Truyện xúc_phạm cá_nhân Bộ_trưởng_Nguyễn_Thị_Kim_Tiến thì yêu_cầu các cơ_quan_chức_năng ở tỉnh Thừa_Thiên - Huế thu_hồi các quyết_định xử_phạt , kỷ_luật . Quyết_định kỷ_luật mức khiển_trách của Trung_tâm_Y_tế huyện Phong_Điền với bác_sĩ Hoàng_Công_Truyện - Ảnh : D.THANH\n",
      "    TARGET: Sáng 23-10 , ông Nguyễn_Đức_Lợi , giám_đốc_Trung_tâm Y_tế huyện Phong_Điền , cho_biết đại_diện Sở Y_tế tỉnh Thừa_Thiên - Huế đã xin_lỗi bác_sĩ_Hoàng_Công_Truyện về việc kỷ_luật_khiển_trách vì “ nói_xấu ” Bộ_trưởng Bộ Y_tế .\n",
      " PREDICTED: Ngày 16 - 4 , Sở Y_tế tỉnh Thừa_Thiên - Huế đã ra quyết_định kỷ_luật khiển_trách đối_với bác_sĩ - giám_đốc Sở Y_tế tỉnh Thừa_Thiên - Huế vì đã có hành_vi\n",
      "--------------------------------------------------------------------------------\n"
     ]
    },
    {
     "name": "stderr",
     "output_type": "stream",
     "text": [
      "Processing Epoch 15: 100%|██████████| 1648/1648 [15:22<00:00,  1.79it/s, loss=3.509]\n",
      "stty: 'standard input': Inappropriate ioctl for device\n"
     ]
    },
    {
     "name": "stdout",
     "output_type": "stream",
     "text": [
      "--------------------------------------------------------------------------------\n",
      "torch.Size([1, 254])\n",
      "torch.Size([1, 1, 1, 254])\n",
      "    SOURCE: \" Tại DK_1/15 , sóng đánh trùm qua nhà cũ , bộ_đội an_toàn \" - bốn chữ cuối của tin nhắn cũng là điều chúng_ta mong_mỏi nhất - \" bộ_đội an_toàn \" ! Những thông_tin của thượng_tá Nguyễn_Thế_Dĩnh - chính_trị_viên tiểu_đoàn DK1 - từ chỉ_huy sở được anh_em cán_bộ chiến_sĩ từ nhà giàn báo về cũng cho_biết : \" DK_1/15 sóng đánh bay bồn dầu trên sàn công_tác \" . Chúng_tôi đã ra DK_1/15 dịp tháng 5 vừa_qua . Bồn_dầu của nhà giàn tầm 15 khối , nếu đầy dầu phải nặng trên mười tấn , được hàn_cố_định vào giàn , vậy_mà sóng xô_bay đủ biết sức gió cỡ nào . Cũng tại nhà giàn cũ của DK_1/1 5 sóng đánh bay cầu_thang , chuồng chăn_nuôi , trạm Viettel ... Cho đến 8 h sáng nay , sức gió đã yếu đi nhưng những hình_ảnh được gửi về từ bãi Tư_Chính ( DK 1/1 4 ) cho thấy sóng vẫn có những cơn phủ trùm lên nhà giàn cũ . Đại_uý_Trịnh_Trọng_Nghĩa - chỉ_huy_trưởng nhà giàn Quế_Đường - cho_biết sáng nay gió có lúc lên cấp 13 , 14 , giật cấp 15 . Nhà_giàn bị rung lắc mạnh . \" Nhưng may_mắn là nhà và người đều an_toàn \" , đại_uý Nghĩa_cho_biết . Đại_uý_Nguyễn_Ngọc_Quỳnh - chỉ_huy_trưởng nhà giàn Huyền_Trân - cho_biết đến 9 h15 sáng nay sóng_gió đã giảm , còn cấp 6-7 . \" Anh_em bộ_đội ổn_định tư_tưởng và đơn_vị đang củng_cố lại các trang_thiết_bị sau bão \" , đại_uý_Quỳnh nói .\n",
      "    TARGET: Hơn 4 h sáng , thượng_tá Nguyễn_Thế_Dĩnh_nhắn_tin từ nhà giàn DK 1 : \" Sóng to nhất trong lịch_sử kể từ khi thành_lập nhà giàn \" .\n",
      " PREDICTED: Trong số những cán_bộ , chiến_sĩ công_an huyện , tỉnh có một đoàn bay làm nhà giàn khoan trên bãi biển , nhà giàn đã bay lên nhà giàn\n",
      "--------------------------------------------------------------------------------\n",
      "torch.Size([1, 254])\n",
      "torch.Size([1, 1, 1, 254])\n",
      "    SOURCE: Đoàn Đại_biểu_Quốc_hội TP. HCM tiếp_xúc cử_tri tại Nhà_thiếu_nhi quận 2 gồm Bí_thư Thành_uỷ_Nguyễn_Thiện_Nhân – Trưởng_đoàn_ĐBQH TP. HCM , ông Phan_Nguyễn_Như_Khuê – Phó_Trưởng_đoàn_ĐBQH , bà Nguyễn_Thị_Quyết_Tâm – Chủ_tịch HĐND TP. HCM và bà Trịnh_Ngọc_Thuý – Phó Chánh_án Toà_án_Nhân_dân TP. HCM đã có buổi tiếp_xúc với các cử_tri quận 2 . Trong buổi tiếp_xúc lần này , 150 phiếu đăng_ký được phát ra để các cử_tri_đăng_ký và đặt câu_hỏi . Hầu_hết các cử_tri đều mong_mỏi Bí_thư Nguyễn_Thiện_Nhân_giải_đáp các khúc_mắc lớn liên_quan đến vấn_đề ranh quy_hoạch , giá đất đền_bù giải_toả , tái_định_cư và quy_hoạch khu_đô_thị mới Thủ_Thiêm . “ Tôi xin đặt hết niềm_tin vào Đại_biểu_Nguyễn_Thiện_Nhân để giải_quyết được dứt_điểm dự_án Khu_đô_thị mới Thủ_Thiêm ” – một cử_tri tại quận 2 phát_biểu . “ Người_dân_chúng_tôi không mong được xin_lỗi . Tôi yêu_cầu trừng_trị_thích_đáng những người nào không tuân theo lợi_ích của Đảng , chà_đạp luật_pháp . Tôi mong rằng TP. HCM không xin_lỗi người_dân . Mỗi_một lần xin_lỗi_người_dân là lại một lần xát thêm muối vào nỗi_đau của chúng_tôi ” , ông Cao_Thanh_Ca , cử_tri phường Bình_Khánh , quận 2 bày_tỏ ý_kiến . Ông kiến_nghị thêm : “ Phải đưa “ đại_án ” Khu_đô_thị mới Thủ_Thiêm vào chương_trình Quốc_hội kỳ họp này để Quốc_hội ra một nghị_quyết ” . Kiến_nghị này đã được đông_đảo cử_tri trong hội_trường vỗ_tay tán_thành .\n",
      "    TARGET: Đó là lời khẳng_định của Bí_thư_Thành_uỷ Nguyễn_Thiện_Nhân – Trưởng_đoàn_ĐBQH TP. HCM trong buổi tiếp_xúc cử_tri quận 2 , TP. HCM vào sáng 20/10 .\n",
      " PREDICTED: Bí_thư Thành_uỷ TP HCM trước cử_tri quận 2 về những của Thủ_Thiêm , trong phiên chất_vấn của Bí_thư_Thành_uỷ TP HCM .\n",
      "--------------------------------------------------------------------------------\n"
     ]
    },
    {
     "name": "stderr",
     "output_type": "stream",
     "text": [
      "Processing Epoch 16: 100%|██████████| 1648/1648 [15:22<00:00,  1.79it/s, loss=3.270]\n",
      "stty: 'standard input': Inappropriate ioctl for device\n"
     ]
    },
    {
     "name": "stdout",
     "output_type": "stream",
     "text": [
      "--------------------------------------------------------------------------------\n",
      "torch.Size([1, 254])\n",
      "torch.Size([1, 1, 1, 254])\n",
      "    SOURCE: Phát_biểu tại lễ ra_mắt thẻ theo công_nghệ chip ( thay cho thẻ_ATM , thẻ_ghi_nợ theo công_nghệ dải từ ) của 7 ngân_hàng đầu_tiên gồm Vietcombank , Sacombank , Tienphongbank , Vietinbank , BIDV , Agribank và ABbank chiều 28-5 , Phó thống_đốc Ngân_hàng Nhà_nước_Nguyễn_Kim_Anh cho rằng thẻ chip nội_địa sẽ hạn_chế các rủi_ro về gian_lận giả_mạo trong thanh_toán thẻ . Ngoài_ra còn đảm_bảo an_toàn cho khách_hàng và làm nền_tảng quan_trọng để tích_hợp , ứng_dụng cho các dịch_vụ và phương_tiện thanh_toán không dùng tiền_mặt trong các ngành , lĩnh_vực khác . Điều này giúp nhanh_chóng đưa VN ra khỏi \" vùng trũng \" về gian_lận , giả_mạo thẻ rộ lên thời_gian qua . Chi_phí chuyển_đổi thẻ chip sẽ được các ngân_hàng miễn_phí giai_đoạn đầu khi thực_hiện . Còn thời_gian cụ_thể áp_dụng việc miễn_phí chuyển_đổi thẻ , ông Đào_Minh_Tuấn , phó tổng_giám_đốc Vietcombank , cho_biết ngân_hàng đang tính_toán . Trả_lời riêng Tuổi_Trẻ , ông Chu_Hồng_Ngọc , giám_đốc khối vận_hành Ngân_hàng_Việt_Nam_Thịnh_Vượng ( VPBank ) , cho_hay hiện VPBank có 500 máy POS và khoảng 1,5 triệu thẻ nội_địa cần phải nâng_cấp trong tổng_số hơn 3,8 triệu thẻ_tín_dụng và ghi nợ đã phát_hành . VPBank cam_kết sẽ chi_trả toàn_bộ chi_phí chuyển_đổi sang thẻ chip cho khách . \" Dù chi_phí_nâng_cấp cũng như chuyển thẻ từ sang thẻ chip tương_đối lớn , nhưng đây là một trong những trọng_tâm của ngân_hàng trong việc đảm_bảo an_toàn cho khách_hàng cũng như cho chính ngân_hàng \" - ông Ngọc_nhấn_mạnh . Phó thống_đốc Nguyễn_Kim_Anh_yêu_cầu việc chuyển_đổi thẻ phải đảm_bảo an_toàn , ổn_định , hoạt_động thẻ diễn ra liên_tục , không gây ảnh_hưởng giao_dịch thanh_toán của người_dân và khách_hàng . Các ngân_hàng còn lại cần đẩy nhanh theo đúng lộ_trình đặt ra là đến ngày 31-12 năm nay phải chuyển_đổi ít_nhất 30 % thẻ từ nội_địa , 35 % số_lượng ATM , 50 % số_lượng POS hiện có sang công_nghệ chip_tiếp_xúc và không tiếp_xúc .\n",
      "    TARGET: Đó là thông_tin được 7 ngân_hàng cho_biết khi trao_đổi với báo_chí bên lề lễ ra_mắt thẻ chip nội_địa chiều 28-5 .\n",
      " PREDICTED: Ngày 4 - 3 , ông - phó giám_đốc ngân_hàng VN - cho_biết vừa ra_mắt hai ngân_hàng có dịch_vụ “ chống nợ ” nhằm kết_nối khách_hàng với các ngân_hàng có\n",
      "--------------------------------------------------------------------------------\n",
      "torch.Size([1, 254])\n",
      "torch.Size([1, 1, 1, 254])\n",
      "    SOURCE: Bộ Giao_thông_vận_tải cho_biết như_vậy trong thông_cáo phát ra chiều 9-7 về phương_án thực_hiện dự_án đường_sắt tốc_độ cao trên trục Bắc - Nam . Theo đó , ngày 9-7 nhiều phương_tiện_thông_tin_đại_chúng có đăng_tải thông_tin về dự_án đường_sắt tốc_độ cao trên trục Bắc - Nam , trong đó có thông_tin về việc vốn làm tuyến đường_sắt này chỉ 26 tỉ USD , rẻ hơn 32 tỉ USD so với phương_án Bộ Giao_thông vận_tải_trình Thủ_tướng . Bộ Giao_thông_vận_tải cho biết , theo chỉ_đạo của Thủ_tướng , từ năm 2017 , Bộ này đã tổ_chức rà_soát các nghiên_cứu trước_đây về dự_án đường_sắt tốc_độ cao trên trục Bắc - Nam , đồng_thời nghiên_cứu cập_nhật , bổ_sung . Trong quá_trình_thực_hiện , bộ đã tổ_chức 4 hội_nghị , hội_thảo_chuyên_đề và các báo_cáo xin ý_kiến của các cơ_quan , đơn_vị có liên_quan và các chuyên_gia . Ngoài 20/20_địa_phương có dự_án đi qua góp ý_kiến chính_thức bằng văn_bản về dự_án , đến thời_điểm_5-1-2019 , Bộ Giao_thông_vận_tải đã nhận được ý_kiến của 9/10_bộ , ngành về cơ_bản_thống_nhất với đề_xuất hồ_sơ dự_án . Ngày 14-2-2019 , Bộ Giao_thông_vận_tải đã trình Thủ_tướng báo_cáo nghiên_cứu tiền_khả_thi dự_án . Do tư_vấn lập dự_án đề_xuất tổng mức đầu_tư 58,7 tỉ USD là rất lớn nên báo_cáo nghiên_cứu tiền_khả_thi cũng đã đề_cập khả_năng huy_động nguồn_lực nhằm giảm áp nợ_công của nền kinh_tế theo 2 phương_án phân_kỳ đầu_tư . Phương_án_phân_kỳ theo chiều ngang : Đầu_tư_hoàn_chỉnh và khai_thác đồng_bộ đường_sắt tốc_độ cao trên từng đoạn với tốc_độ thiết_kế là 350 km / h . Giai_đoạn 1 ( dự_kiến từ 2020 - 2032 ) đầu_tư đoạn Hà_Nội - Vinh và TP. HCM - Nha_Trang với tổng mức đầu_tư dự_kiến là 24,7 tỉ USD . Giai_đoạn 2 ( dự_kiến từ 2032 - 2050 ) đầu_tư đoạn Vinh - Nha_Trang để nối thông toàn tuyến tổng mức đầu_tư là 33,98 tỉ USD .\n",
      "    TARGET: Bộ Giao_thông_vận_tải giải_trình làm rõ với Hội_đồng_thẩm_định Nhà_nước các vấn_đề liên_quan đến dự_án đường_sắt tốc_độ cao trên trục Bắc - Nam , trong đó có ý_kiến của Bộ Kế_hoạch và đầu_tư về việc vốn chỉ còn 26 tỉ USD cho toàn tuyến .\n",
      " PREDICTED: Bộ Giao_thông_vận_tải ( GTVT ) cho_biết như_vậy trong báo_cáo gửi Chính_phủ về dự_án đường_sắt tốc_độ cao trên cao giữa dự_án đường_sắt tốc_độ cao của đường_sắt Bắc - Nam .\n",
      "--------------------------------------------------------------------------------\n"
     ]
    },
    {
     "name": "stderr",
     "output_type": "stream",
     "text": [
      "Processing Epoch 17: 100%|██████████| 1648/1648 [15:22<00:00,  1.79it/s, loss=2.894]\n",
      "stty: 'standard input': Inappropriate ioctl for device\n"
     ]
    },
    {
     "name": "stdout",
     "output_type": "stream",
     "text": [
      "--------------------------------------------------------------------------------\n",
      "torch.Size([1, 254])\n",
      "torch.Size([1, 1, 1, 254])\n",
      "    SOURCE: Thời_gian gần đây , ca_sĩ Thu_Minh rất \" im_hơi_lặng_tiếng \" , khác hẳn với sự phá_cách_trước_đây của chị . Trong một cuộc gặp_gỡ_mới_đây , Thu_Minh nói , chị đã \" đằm \" hơn trước rất nhiều , nhất_là từ khi làm mẹ , chị bỏ_qua nhiều ồn_ào của cuộc_sống để đi hát và chăm_lo cho gia_đình . Thu_Minh_cho_hay : \" Hơn một năm nay , tôi chăm_lo cho gia_đình là chủ_yếu . Có những diễn_biến trong cuộc_sống của tôi chưa_thể công_khai được nhưng 1 năm qua là khoảng thời_gian tôi tập_trung cho điều đó cũng như chăm_sóc cho bé Gấu . Tính tôi mỗi khi làm_việc đều tập_trung hết tinh_thần và khí_lực của mình , bất_kì công_việc nào cũng phải tập_trung mới thành_công . Chứ nếu dở_dở_ương_ương , khi người_ta gọi mình không đáp_ứng được thì tôi không dám nhận . Ngay đến cả show_diễn , tôi chỉ nhận những show không mất thời_gian_chuẩn_bị nhiều hay mất thời_gian_tập_luyện . Tôi chỉ nhận show diễn kiểu người_ta yêu_mến giọng hát của mình , tôi đến hát cho vui hay diễn cho sự_kiện riêng_tư của các công_ty lớn \" . Khi được hỏi , thời_gian gần đây , Thu_Minh_dường_như \" lột_xác \" từ hình_ảnh một quý bà sang chảnh sang một hình_ảnh trẻ_trung hơn , có gì thay_đổi trong suy_nghĩ của chị sao ? Thu_Minh_bộc_bạch : \" Không có sự thay_đổi nào lớn_lao cả , bởi sự trẻ_trung đó từ chính bản_thân tôi , tôi không phải cố_gắng gì nhiều .\n",
      "    TARGET: Theo \" Nữ_hoàng_nhạc dance \" , danh_hiệu \" không mài ra để sống được \" và điều_quan_trọng là sống bằng trái_tim , giọng hát đúng nghĩa .\n",
      " PREDICTED: Sau khi úp_mở , đã cho biết , cô đã lấy chồng đi 4 lần và lập gia_đình . Vì_vậy , cô nên đã chủ_động cho chồng để lấy chồng\n",
      "--------------------------------------------------------------------------------\n",
      "torch.Size([1, 254])\n",
      "torch.Size([1, 1, 1, 254])\n",
      "    SOURCE: Ông Kim_Jong-un chia buồn với cán_bộ đại_sứ_quán Trung_Quốc tại Bình_Nhưỡng . \" Vụ tai_nạn bất_ngờ này khiến tôi vô_cùng đau_buồn . Người_dân Triều_Tiên coi tai_nạn bi_thảm này như bất_hạnh của chính họ \" , hãng thông_tấn nhà_nước Triều_Tiên_KCNA dẫn lời lãnh_đạo_Kim_Jong-un trong lúc nói_chuyện với các nhân_viên Đại_sứ_quán_Trung_Quốc tại Bình_Nhưỡng . Lãnh_đạo_Triều_Tiên cho biết đảng và chính_phủ nước này sẽ tiếp_tục trợ_giúp các nạn_nhân với hy_vọng có_thể giảm bớt được phần_nào_nỗi_đau của gia_đình họ . Ngoài Đại_sứ_quán , ông Kim cũng đến thăm những người sống_sót đang điều_trị tại bệnh_viện địa_phương . Vụ tai_nạn xảy ra đêm 22/4 khi một chiếc xe_buýt du_lịch đâm xuống một cây cầu ở tỉnh Hwanghae , phía nam thủ_đô_Bình_Nhưỡng , khiến 32 người Trung_Quốc_thiệt_mạng và nhiều người bị_thương . Đại_sứ Trung_Quốc tại Triều_Tiên_Li_Jinjun_cho_biết sẽ báo_cáo với Chủ_tịch Trung_Quốc_Tập_Cận_Bình và gia_đình_nạn_nhân về chuyến thăm của ông Kim , đồng_thời cam_kết phối_hợp chặt_chẽ với giới_chức Bình_Nhưỡng để điều_tra nguyên_nhân sự_cố . Tỉnh Hwanghae_giáp biên_giới với Hàn_Quốc , là nơi đặt cố_đô Kaesong của Triều_Tiên , thu_hút rất nhiều khách du_lịch . Theo số_liệu của Viện Hàng_hải_Hàn_Quốc , ngành du_lịch mang về cho Triều_Tiên khoảng 44 triệu USD mỗi năm . Triều_Tiên là điểm đến được nhiều người Trung_Quốc , đặc_biệt người_dân ở đông_bắc , rất ưa_chuộng .\n",
      "    TARGET: Lãnh_đạo Triều_Tiên đến sứ_quán Trung_Quốc để bày_tỏ nỗi_đau buồn sau vụ tai_nạn xe_buýt khiến 32 du_khách Trung_Quốc_thiệt_mạng .\n",
      " PREDICTED: - về nước sau khi gặp tai_nạn , người được cho là đã đưa thi_thể các nạn_nhân về nước .\n",
      "--------------------------------------------------------------------------------\n"
     ]
    },
    {
     "name": "stderr",
     "output_type": "stream",
     "text": [
      "Processing Epoch 18: 100%|██████████| 1648/1648 [15:22<00:00,  1.79it/s, loss=2.901]\n",
      "stty: 'standard input': Inappropriate ioctl for device\n"
     ]
    },
    {
     "name": "stdout",
     "output_type": "stream",
     "text": [
      "--------------------------------------------------------------------------------\n",
      "torch.Size([1, 254])\n",
      "torch.Size([1, 1, 1, 254])\n",
      "    SOURCE: Trong văn_bản_khẩn vừa gửi ĐH Y_Khoa_Phạm_Ngọc_Thạch , UBND TP HCM yêu_cầu trường kiểm_điểm trách_nhiệm tập_thể , cá_nhân khi trình Bộ Giáo_dục và công_bố rộng_rãi đề_án tuyển_sinh năm 2017 khi chưa được sự đồng_ý của Uỷ_ban . Ban_giám_hiệu_trường phải báo_cáo đề_án tuyển_sinh và phương_án tài_chính trước khi khai_giảng năm_học mới ( 2017 - 2018 ) ; đảm_bảo việc tuyển_sinh , dạy đúng quy_định và đạt hiệu_quả cao nhất . Khi xây_dựng đề_án tuyển_sinh năm sau , trường phải chú_trọng nhiệm_vụ đào_tạo cán_bộ y_tế cho thành_phố . Nếu muốn mở_rộng đối_tượng tuyển_sinh cả nước , cần chuẩn_bị kỹ_đề_án này ( trong đó có phương_án tự_chủ tài_chính , nâng_cao năng_lực , chất_lượng đội_ngũ giảng_viên , cơ_sở_vật_chất của trường ... ) báo_cáo UBND xem_xét trước khi đăng_ký với Bộ Giáo_dục và Đào_tạo . Ông Đinh_La_Thăng thăm và làm_việc với ĐH Y_Khoa_Phạm_Ngọc_Thạch vào cuối tháng 2 . Hồi tháng 1 , trường đại_học y_trực_thuộc UBND TP HCM gửi công_văn đến Bộ Giáo_dục_đăng_ký chỉ_tiêu tuyển_sinh 2017 với điều_kiện thí_sinh phải có hộ_khẩu thành_phố ( như những năm trước_đây ) . Nhưng khi ông Đinh_La_Thăng ( khi đó là Bí_thư_Thành_uỷ TP HCM ) chỉ_đạo_trường \" tuyển_sinh trên cả nước \" để chọn người tài , trường phát ra thông_báo này và có hơn 16.000 người đăng_ký . Tuy_nhiên , ngày 8/6 , trường lại ra thông_báo_khẩn \" chỉ tuyển_sinh người có hộ_khẩu TP HCM \" vì nhận được công_văn của UBND TP HCM chưa chấp_thuận cho_phép mở_rộng tuyển_sinh , vẫn tuyển như những năm trước . Không chấp_nhận động_thái này của trường , Bộ Giáo_dục_yêu_cầu giữ nguyên tuyển_sinh cả nước như đăng_ký trước đó . Đến chiều 11/6 , Thường_trực_Thành_uỷ và UBND TP HCM đồng_ý cho Đại_học Y_khoa_Phạm_Ngọc_Thạch được mở_rộng phạm_vi tuyển_sinh trên toàn_quốc , sau khi xem_xét quyền_lợi của hơn 16.000_thí_sinh đã đăng_ký xét tuyển trước đó .\n",
      "    TARGET: Ban_giám_hiệu ĐH Y_Khoa_Phạm_Ngọc_Thạch bị xem_xét trách_nhiệm vì công_bố đề_án tuyển_sinh năm 2017 khi chưa báo_cáo UBND TP HCM .\n",
      " PREDICTED: Ông , phó chủ_tịch UBND TP HCM , yêu_cầu Sở Giáo_dục và đào_tạo TP HCM phải rà_soát đề_án đề_án tuyển_sinh theo từng trường .\n",
      "--------------------------------------------------------------------------------\n",
      "torch.Size([1, 254])\n",
      "torch.Size([1, 1, 1, 254])\n",
      "    SOURCE: \" Tôi không tin rằng Israel đang do thám_chúng_ta . Tôi cảm_thấy đây là điều rất khó tin \" , Tổng_thống Mỹ Donald_Trump_trả_lời các phóng_viên tại Nhà_Trắng hôm 12/9 . Trump khẳng_định ông có mối quan_hệ chặt_chẽ với Israel , với bằng_chứng là sự ủng_hộ của chính_phủ nước này với các chính_sách của ông đối_với_Iran . Ông chủ Nhà_Trắng nói thêm \" bất_cứ điều gì cũng có_thể xảy ra \" nhưng nhắc lại ông không tin cáo_buộc rằng Israel đang lén theo_dõi Mỹ . Tuyên_bố được Tổng_thống_Mỹ đưa ra sau khi ba cựu quan_chức cấp cao nước này cho_biết các nhân_viên tình_báo Israel_có_thể đứng sau việc cài_đặt những thiết_bị \" Stingray \" để theo_dõi tín_hiệu điện_thoại_di_động gần Nhà_Trắng và quanh thủ_đô Washington_D.C . Tổng_thống Mỹ Donald_Trump_trả_lời các phóng_viên tại Nhà_Trắng hôm 12/9 . Elad_Strohmayer , phát_ngôn_viên đại_sứ_quán Israel , ngay_lập_tức_phủ_nhận \" các cáo_buộc hoàn_toàn vô_lý \" này , khẳng_định Israel không tiến_hành hoạt_động_gián_điệp ở Mỹ . Văn_phòng Thủ_tướng Israel_Benjamin_Netanyahu cũng tuyên_bố thông_tin nói Israel_đứng sau các hoạt_động gián_điệp nhằm vào Mỹ là hoàn_toàn sai sự_thật . \" Chính_phủ_Israel từ lâu đã đưa ra cam_kết và chỉ_thị về việc không tham_gia vào bất_kỳ hoạt_động tình_báo nào ở Mỹ \" , văn_phòng của Thủ_tướng Netanyahu ra thông_báo hôm 12/9 . Mối quan_hệ đồng_minh Mỹ - Israel trở nền nồng_ấm hơn dưới thời Tổng_thống_Trump .\n",
      "    TARGET: Trump bác nghi_ngờ của ba cựu quan_chức cấp cao Mỹ cho_rằng_Israel đã có những hành_động do thám_Nhà_Trắng trong hai năm .\n",
      " PREDICTED: Tổng_thống Mỹ gọi thông_tin CIA là \" bí_mật \" , khẳng_định Washington không có bằng_chứng trong xử_lý cuộc .\n",
      "--------------------------------------------------------------------------------\n"
     ]
    },
    {
     "name": "stderr",
     "output_type": "stream",
     "text": [
      "Processing Epoch 19: 100%|██████████| 1648/1648 [15:22<00:00,  1.79it/s, loss=3.010]\n",
      "stty: 'standard input': Inappropriate ioctl for device\n"
     ]
    },
    {
     "name": "stdout",
     "output_type": "stream",
     "text": [
      "--------------------------------------------------------------------------------\n",
      "torch.Size([1, 254])\n",
      "torch.Size([1, 1, 1, 254])\n",
      "    SOURCE: 10 h ngày 11/6 , hàng trăm thí_sinh thi vào lớp 10 tại hội_đồng THCS Chu_Văn_An ( quận 1 , TP HCM ) vui_vẻ rời phòng thi . Môn_Ngữ_văn với ba câu_hỏi không gây nhiều bất_ngờ nhưng khiến các em thích_thú ở câu số 2 , phần nghị_luận xã_hội , với yêu_cầu viết một bài văn_ngắn trả_lời cho câu_hỏi \" Phải_chăng chỉ có những điều ngọt_ngào mới làm_nên yêu_thương ? \" Đề_thi tuyển_sinh lớp 10 môn_Văn . Ảnh : T.M_Minh_Tâm ( học_sinh THCS_Chu_Văn_An , quận 1 ) cho_biết đã làm câu_hỏi trên rất suôn_sẻ bởi dòng cảm_xúc trôi_chảy . \" Câu_hỏi mở đã cho em được nhiều lựa_chọn . Điều ngọt_ngào làm_nên yêu_thương nhưng những giận_hờn cũng có_thể làm_nên nó \" , Tâm nói . Mất khoảng 30 phút để làm câu nghị_luận này , Xuân_Bảo ( học_sinh THCS_Lương_Thế_Vinh , quận 1 ) , nhận_xét : \" Đề_Văn không khó vì các dạng câu_hỏi đã được em ôn_tập nhiều lần . Riêng câu nghị_luận rất hay , gợi_mở . Em đoán mình đạt 7-8_điểm \" . Thu_Trang ( học_sinh THCS_Nguyễn_Hiền , quận 7 ) nói rất thích câu 2 vì nội_dung gần_gũi , dung_dị . \"\n",
      "    TARGET: Câu hỏi nghị_luận trong đề thi_Văn_tuyển_sinh lớp 10 năm nay tại TP HCM khiến nhiều thí_sinh thích_thú vì được thoải_mái bày_tỏ cảm_xúc .\n",
      " PREDICTED: Các giáo_viên ở quận 12 , TP HCM , cho_biết đề_thi môn và các môn khác nhau .\n",
      "--------------------------------------------------------------------------------\n",
      "torch.Size([1, 254])\n",
      "torch.Size([1, 1, 1, 254])\n",
      "    SOURCE: Siêu tàu dầu Grace 1 ngoài khơi Gibraltar hôm 15/8 , trước khi đổi tên thành Adrian_Darya . \" Cộng_hoà Hồi_giáo_Iran đã bán xong số dầu trên tàu Adrian_Darya ( tên cũ là Grace 1 ) , chủ_sở_hữu và người mua số dầu này sẽ quyết_định điểm đến của hàng_hoá \" , phát_ngôn_viên chính_phủ Iran_Ali_Rabiei_hôm_nay cho biết , nhưng không cung_cấp thêm thông_tin về bên mua số dầu trên . Giám_đốc_điều_hành hãng vận_tải_Astralship , công_ty vận_hành Grace 1 , hôm 17/8 thông_báo tàu sẽ rời khỏi Gibraltar với 2,1 triệu thùng dầu và thuỷ_thủ_đoàn mới gồm những người mang quốc_tịch Ấn_Độ và Ukraine . Grace 1 bị thuỷ_quân_lục_chiến_Anh cùng cảnh_sát biển Gibraltar bắt ngày 4/7 ở ngoài khơi vùng lãnh_thổ này với cáo_buộc chở dầu tới Syria , vi_phạm lệnh trừng_phạt của Liên_minh_châu_Âu . Tehran bác cáo_buộc , khẳng_định dầu đang tới cảng Basra của Iraq . Lệnh trả tự_do cho Grace 1 được toà_án_Gibraltar đưa ra sau khi Thủ_hiến Fabian_Picardo nhận được đảm_bảo bằng văn_bản của Iran về việc tàu không chở dầu tới Syria . Ngay sau khi Gibraltar_tuyên_bố thả con Grace 1 , một toà_án liên_bang Mỹ đã ra_lệnh bắt tàu do nghi_ngờ nó có liên_hệ với Vệ_binh_Cách_mạng Hồi_giáo_Iran , tổ_chức vũ_trang bị Washington_liệt vào danh_sách khủng_bố . Tuy_nhiên , đề_nghị trên bị Gibraltar_từ_chối , chưa rõ lệnh bắt sẽ được Washington tiến_hành như_thế_nào . Tàu đã đổi tên thành Adrian_Darya , treo cờ_Iran và đang ở phía tây đảo Crete của Hy_Lạp . Quan_hệ giữa Iran và Mỹ xấu đi kể từ khi Washington rút khỏi thoả_thuận hạt_nhân ký với Iran năm 2015 và liên_tiếp áp_đặt các biện_pháp trừng_phạt nhằm vào Tehran .\n",
      "    TARGET: Phát_ngôn_viên chính_phủ Iran_thông_báo Tehran đã bán hết hơn 2 triệu thùng dầu trên tàu Adrian_Darya , nhưng không tiết_lộ bên mua .\n",
      " PREDICTED: sẽ hủy hợp_đồng với cho Iran nếu nước này muốn mua dầu Grace 1 nhưng không thay_đổi .\n",
      "--------------------------------------------------------------------------------\n"
     ]
    },
    {
     "name": "stderr",
     "output_type": "stream",
     "text": [
      "Processing Epoch 20: 100%|██████████| 1648/1648 [15:22<00:00,  1.79it/s, loss=2.735]\n",
      "stty: 'standard input': Inappropriate ioctl for device\n"
     ]
    },
    {
     "name": "stdout",
     "output_type": "stream",
     "text": [
      "--------------------------------------------------------------------------------\n",
      "torch.Size([1, 254])\n",
      "torch.Size([1, 1, 1, 254])\n",
      "    SOURCE: Sự lạc_quan của đội tàu Seabed_Constructor gồm 65 người thực_hiện nhiệm_vụ tìm_kiếm đang ngày_càng_gia_tăng khi họ đang chuẩn_bị hoàn_thành khu_vực tìm_kiếm 25.000 km² được đánh_dấu bởi cục An_toàn giao_thông_Australia , là vùng “ có khả_năng cao nhất ” có xác chiếc Boeing - 777 cùng với 239 hành_khách và phi_hành xấu_số . Ngoài các nhân_viên_kỹ_thuật , đội tìm_kiếm trên tàu Seabed_Constructor cũng bao_gồm nhiều sĩ_quan quân_đội Malaysia . Hiện nhóm tìm_kiếm chỉ còn khoảng 9.000 km² cần phải rà_soát . Khu_vực này được cho là có xác_suất cao sẽ là nơi máy_bay rơi xuống , dựa trên phân_tích các mảnh vỡ của chiếc Boeing - 777 được tìm thấy trên đảo Reunion vào năm 2015 . Các Các phân_tích xác_nhận rằng nó là một phần của MH370 , theo tờ New_Straits_Times . Trong trường_hợp không phát_hiện được gì từ vùng tìm_kiếm nêu trên , Seabed_Constructor sẽ tiến_hành rà_soát mở_rộng ra thêm khoảng 48.000 km² , trong khuôn_khổ thời_hạn tìm_kiếm 90 ngày . Sự tự_tin của nhóm tìm_kiếm này một phần xuất_phát từ thiết_bị “ bay_tự_do ” dưới nước ( UAV ) với công_nghệ tốt nhất được trang_bị máy_quét hiện_đại , bộ đo âm_thanh đa_chùm , từ kế tự bù , máy_quét khẩu_độ tổng_hợp và cảm_biến_độ đục . Tám chiếc UAV có khả_năng hoạt_động ở độ sâu đến 6.000 m đang được triển_khai đồng_thời và có_thể thu_thập dữ_liệu với chất_lượng cao hơn . Hai quan_chức Hải_quân Malaysia , Azmi_Rosedee và Adbul_Halim_Ahmad_Nordin , cho_hay đội tìm_kiếm MH370 vẫn tiếp_tục nỗ_lực rà_soát đáy biển Ấn_Độ_Dương trong điều_kiện thời_tiết vô_cùng khắc_nghiệt . “ Quá_trình_tìm_kiếm bị chậm là do biển Ấn_Độ_Dương_thời_gian này vô_cùng dữ_dội .\n",
      "    TARGET: Sau 4 năm kể từ khi MH370_mất_tích , các sĩ_quan thuộc đội tìm_kiếm_cho_hay họ tỏ ra lạc_quan về việc tìm thấy chiếc máy_bay và sớm mở ra bức màn bí_mật bị che_lấp trong nhiều năm qua .\n",
      " PREDICTED: Thiết_bị tìm_kiếm mới của Hải_quân Malaysia hiện có hơn 1 . 000 người trên khoang , có_thể xác_định được vị_trí chiếc máy_bay là người sống_sót .\n",
      "--------------------------------------------------------------------------------\n",
      "torch.Size([1, 254])\n",
      "torch.Size([1, 1, 1, 254])\n",
      "    SOURCE: Tổng_thống Nga Vladimir_Putin_phát_biểu tại Diễn_đàn_Quốc_tế về Bắc_Cực ở St . Petersburg hôm_nay . \" Ngay từ đầu chúng_tôi đã nói rằng đội_ngũ của Mueller sẽ không tìm thấy bằng_chứng , bởi chúng_tôi biết rõ hơn ai hết là Nga không can_thiệp bất_cứ cuộc bầu_cử nào của Mỹ \" , Tổng_thống_Vladimir_Putin hôm_nay phát_biểu , đề_cập tới cuộc điều_tra của công_tố_viên đặc_biệt Robert_Mueller . Putin nhấn_mạnh kết_quả không nằm ngoài dự_đoán , đồng_thời gọi cuộc điều_tra của Mueller là \" đầu_voi_đuôi_chuột \" . \" Sự thông_đồng giữa Tổng_thống_Donald_Trump và Nga , điều mà Mueller đang tìm_kiếm , không hề tồn_tại \" , Tổng_thống_Nga nói . Ông Mueller cuối tháng trước gửi báo_cáo_mật cho Bộ_trưởng Tư_pháp_Mỹ_William_Barr về kết_quả điều_tra cáo_buộc Nga thông_đồng với chiến_dịch tranh_cử của Trump năm 2016 , trong đó kết_luận Tổng_thống Mỹ không có hành_vi phạm_tội . Bộ_trưởng Barr hôm_nay cho_biết bản báo_cáo của Mueller sẽ được công_bố vào tuần tới nhưng chỉ tiết_lộ một phần nhằm giới_hạn những chi_tiết có_thể ảnh_hưởng đến các cuộc điều_tra đang diễn ra , tài_liệu_mật hoặc thông_tin ảnh_hưởng tới bên thứ ba . Đảng Dân_chủ muốn ông Barr công_khai toàn_bộ báo_cáo nhưng đề_nghị này bị từ_chối . Tổng_thống_Trump nhiều lần chỉ_trích cuộc điều_tra của Mueller là \" cuộc săn_phù_thuỷ \" và cho_rằng đây là nỗ_lực hạ_bệ bất_thành . Nga cũng kiên_quyết phủ_nhận cáo_buộc thông_đồng với chiến_dịch tranh_cử của Trump , đồng_thời yêu_cầu truyền_thông Mỹ_xin_lỗi vì đưa tin sai_lệch về Moskva .\n",
      "    TARGET: Tổng_thống Nga cho_rằng việc Mỹ không tìm thấy bằng_chứng Moskva_thông_đồng với chiến_dịch tranh_cử của Trump không bất_ngờ .\n",
      " PREDICTED: Tổng_thống Nga của Mỹ về việc điều_tra Nga can_thiệp bầu_cử Mỹ và sẽ không công_bố báo_cáo này .\n",
      "--------------------------------------------------------------------------------\n"
     ]
    }
   ],
   "source": [
    "from config import get_config\n",
    "cfg = get_config()\n",
    "cfg['model_folder'] = '/kaggle/working/weights'\n",
    "cfg['tokenizer_file'] = '/kaggle/working/tokenizer_{0}.json'\n",
    "cfg['batch_size'] = 64\n",
    "cfg['num_epochs'] = 21\n",
    "cfg['preload'] = 'latest'\n",
    "cfg[\"chunking\"] = True\n",
    "cfg[\"src_len\"] = 254\n",
    "cfg[\"tgt_len\"] = 32\n",
    "\n",
    "from train import train_model\n",
    "\n",
    "train_model(cfg)"
   ]
  }
 ],
 "metadata": {
  "kaggle": {
   "accelerator": "gpu",
   "dataSources": [],
   "dockerImageVersionId": 30787,
   "isGpuEnabled": true,
   "isInternetEnabled": true,
   "language": "python",
   "sourceType": "notebook"
  },
  "kernelspec": {
   "display_name": "Python 3",
   "language": "python",
   "name": "python3"
  },
  "language_info": {
   "codemirror_mode": {
    "name": "ipython",
    "version": 3
   },
   "file_extension": ".py",
   "mimetype": "text/x-python",
   "name": "python",
   "nbconvert_exporter": "python",
   "pygments_lexer": "ipython3",
   "version": "3.10.14"
  },
  "papermill": {
   "default_parameters": {},
   "duration": 10320.466429,
   "end_time": "2024-12-01T08:17:16.482502",
   "environment_variables": {},
   "exception": null,
   "input_path": "__notebook__.ipynb",
   "output_path": "__notebook__.ipynb",
   "parameters": {},
   "start_time": "2024-12-01T05:25:16.016073",
   "version": "2.6.0"
  }
 },
 "nbformat": 4,
 "nbformat_minor": 5
}
